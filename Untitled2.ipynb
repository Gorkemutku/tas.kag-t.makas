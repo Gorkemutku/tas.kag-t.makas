{
 "cells": [
  {
   "cell_type": "code",
   "execution_count": 2,
   "id": "3bafebf5-67bd-4049-9ec4-d53bf89a970b",
   "metadata": {},
   "outputs": [
    {
     "name": "stdin",
     "output_type": "stream",
     "text": [
      "Seçimini yap (taş, kağıt, makas):  makas\n"
     ]
    },
    {
     "name": "stdout",
     "output_type": "stream",
     "text": [
      "Bilgisayarın seçimi: makas\n",
      "Berabere!\n"
     ]
    }
   ],
   "source": [
    "import random\n",
    "\n",
    "def oyun():\n",
    "    secenekler = [\"taş\", \"kağıt\", \"makas\"]\n",
    "    \n",
    "    # Kullanıcıdan seçim al\n",
    "    oyuncu_secimi = input(\"Seçimini yap (taş, kağıt, makas): \").lower()\n",
    "    \n",
    "    if oyuncu_secimi not in secenekler:\n",
    "        print(\"Geçersiz seçim, lütfen taş, kağıt veya makas seçin.\")\n",
    "        return\n",
    "    \n",
    "    # Bilgisayarın rastgele seçimi\n",
    "    bilgisayar_secimi = random.choice(secenekler)\n",
    "    print(f\"Bilgisayarın seçimi: {bilgisayar_secimi}\")\n",
    "\n",
    "    # Sonuçları kontrol et\n",
    "    if oyuncu_secimi == bilgisayar_secimi:\n",
    "        print(\"Berabere!\")\n",
    "    elif (oyuncu_secimi == \"taş\" and bilgisayar_secimi == \"makas\") or \\\n",
    "         (oyuncu_secimi == \"kağıt\" and bilgisayar_secimi == \"taş\") or \\\n",
    "         (oyuncu_secimi == \"makas\" and bilgisayar_secimi == \"kağıt\"):\n",
    "        print(\"Tebrikler, kazandınız!\")\n",
    "    else:\n",
    "        print(\"Bilgisayar kazandı!\")\n",
    "\n",
    "# Oyunu başlat\n",
    "oyun()\n"
   ]
  },
  {
   "cell_type": "code",
   "execution_count": null,
   "id": "fc16b813-ec5f-4fbc-8d46-3a189adeea20",
   "metadata": {},
   "outputs": [],
   "source": []
  }
 ],
 "metadata": {
  "kernelspec": {
   "display_name": "Python 3 (ipykernel)",
   "language": "python",
   "name": "python3"
  },
  "language_info": {
   "codemirror_mode": {
    "name": "ipython",
    "version": 3
   },
   "file_extension": ".py",
   "mimetype": "text/x-python",
   "name": "python",
   "nbconvert_exporter": "python",
   "pygments_lexer": "ipython3",
   "version": "3.11.7"
  }
 },
 "nbformat": 4,
 "nbformat_minor": 5
}
